{
 "cells": [
  {
   "cell_type": "code",
   "execution_count": 1,
   "metadata": {},
   "outputs": [],
   "source": [
    "#Imports\n",
    "import numpy as np\n",
    "import pandas as pd\n",
    "import matplotlib.pyplot as plt\n",
    "\n",
    "np.random.seed(26)\n",
    "\n",
    "from sklearn.model_selection import train_test_split, GridSearchCV,ShuffleSplit\n",
    "from sklearn.metrics import r2_score,make_scorer,mean_squared_error\n",
    "from sklearn.tree import DecisionTreeRegressor\n",
    "from sklearn.preprocessing import MinMaxScaler"
   ]
  },
  {
   "cell_type": "code",
   "execution_count": 134,
   "metadata": {},
   "outputs": [],
   "source": [
    "#Loading the data \n",
    "data = pd.read_excel(\"VesselData.xlsx\")"
   ]
  },
  {
   "cell_type": "markdown",
   "metadata": {},
   "source": [
    "# Machine learning approach\n"
   ]
  },
  {
   "cell_type": "markdown",
   "metadata": {},
   "source": [
    "## Data cleaning"
   ]
  },
  {
   "cell_type": "code",
   "execution_count": 135,
   "metadata": {},
   "outputs": [
    {
     "name": "stdout",
     "output_type": "stream",
     "text": [
      "Index(['eta', 'ata', 'atd', 'vesseldwt', 'vesseltype', 'discharge1', 'load1',\n",
      "       'discharge2', 'load2', 'discharge3', 'load3', 'discharge4', 'load4',\n",
      "       'stevedorenames', 'hasnohamis', 'earliesteta', 'latesteta',\n",
      "       'traveltype', 'previousportid', 'nextportid', 'isremarkable',\n",
      "       'vesselid'],\n",
      "      dtype='object')\n"
     ]
    }
   ],
   "source": [
    "print(data.columns)"
   ]
  },
  {
   "cell_type": "code",
   "execution_count": 136,
   "metadata": {},
   "outputs": [
    {
     "name": "stdout",
     "output_type": "stream",
     "text": [
      "(8208, 22)\n"
     ]
    }
   ],
   "source": [
    "print(data.shape)"
   ]
  },
  {
   "cell_type": "markdown",
   "metadata": {},
   "source": [
    "Four cargo types have been identified (ore, coal, oil, and petroleum), and vessels often carry a mixture of cargo types. For each unique vessel arrival (i.e. each row in the data), we would like a prediction of how much it transships (total of load & discharge activities) per cargo type. Variables of interest therefore are: discharge1, load1, discharge2, load2, discharge3, load3, discharge4 and load4.\n"
   ]
  },
  {
   "cell_type": "code",
   "execution_count": 137,
   "metadata": {
    "scrolled": true
   },
   "outputs": [
    {
     "data": {
      "text/html": [
       "<div>\n",
       "<style scoped>\n",
       "    .dataframe tbody tr th:only-of-type {\n",
       "        vertical-align: middle;\n",
       "    }\n",
       "\n",
       "    .dataframe tbody tr th {\n",
       "        vertical-align: top;\n",
       "    }\n",
       "\n",
       "    .dataframe thead th {\n",
       "        text-align: right;\n",
       "    }\n",
       "</style>\n",
       "<table border=\"1\" class=\"dataframe\">\n",
       "  <thead>\n",
       "    <tr style=\"text-align: right;\">\n",
       "      <th></th>\n",
       "      <th>vesseldwt</th>\n",
       "      <th>vesseltype</th>\n",
       "      <th>discharge1</th>\n",
       "      <th>load1</th>\n",
       "      <th>discharge2</th>\n",
       "      <th>load2</th>\n",
       "      <th>discharge3</th>\n",
       "      <th>load3</th>\n",
       "      <th>discharge4</th>\n",
       "      <th>load4</th>\n",
       "      <th>stevedorenames</th>\n",
       "      <th>hasnohamis</th>\n",
       "      <th>traveltype</th>\n",
       "      <th>previousportid</th>\n",
       "      <th>nextportid</th>\n",
       "      <th>isremarkable</th>\n",
       "      <th>vesselid</th>\n",
       "    </tr>\n",
       "  </thead>\n",
       "  <tbody>\n",
       "    <tr>\n",
       "      <th>0</th>\n",
       "      <td>109290.0</td>\n",
       "      <td>5</td>\n",
       "      <td>0</td>\n",
       "      <td>0</td>\n",
       "      <td>0</td>\n",
       "      <td>0</td>\n",
       "      <td>90173</td>\n",
       "      <td>0</td>\n",
       "      <td>0</td>\n",
       "      <td>0</td>\n",
       "      <td>Stevedore_104</td>\n",
       "      <td>NaN</td>\n",
       "      <td>ARRIVAL</td>\n",
       "      <td>981</td>\n",
       "      <td>731</td>\n",
       "      <td>f</td>\n",
       "      <td>2242</td>\n",
       "    </tr>\n",
       "    <tr>\n",
       "      <th>1</th>\n",
       "      <td>67170.0</td>\n",
       "      <td>3</td>\n",
       "      <td>0</td>\n",
       "      <td>0</td>\n",
       "      <td>0</td>\n",
       "      <td>0</td>\n",
       "      <td>0</td>\n",
       "      <td>0</td>\n",
       "      <td>0</td>\n",
       "      <td>0</td>\n",
       "      <td>Stevedore_109</td>\n",
       "      <td>NaN</td>\n",
       "      <td>ARRIVAL</td>\n",
       "      <td>19</td>\n",
       "      <td>15</td>\n",
       "      <td>f</td>\n",
       "      <td>5462</td>\n",
       "    </tr>\n",
       "    <tr>\n",
       "      <th>2</th>\n",
       "      <td>67737.0</td>\n",
       "      <td>3</td>\n",
       "      <td>0</td>\n",
       "      <td>0</td>\n",
       "      <td>0</td>\n",
       "      <td>0</td>\n",
       "      <td>0</td>\n",
       "      <td>0</td>\n",
       "      <td>0</td>\n",
       "      <td>0</td>\n",
       "      <td>Stevedore_57</td>\n",
       "      <td>NaN</td>\n",
       "      <td>ARRIVAL</td>\n",
       "      <td>19</td>\n",
       "      <td>19</td>\n",
       "      <td>f</td>\n",
       "      <td>5251</td>\n",
       "    </tr>\n",
       "    <tr>\n",
       "      <th>3</th>\n",
       "      <td>43600.0</td>\n",
       "      <td>3</td>\n",
       "      <td>0</td>\n",
       "      <td>0</td>\n",
       "      <td>0</td>\n",
       "      <td>0</td>\n",
       "      <td>0</td>\n",
       "      <td>0</td>\n",
       "      <td>0</td>\n",
       "      <td>0</td>\n",
       "      <td>Stevedore_57</td>\n",
       "      <td>NaN</td>\n",
       "      <td>ARRIVAL</td>\n",
       "      <td>15</td>\n",
       "      <td>18</td>\n",
       "      <td>f</td>\n",
       "      <td>5268</td>\n",
       "    </tr>\n",
       "    <tr>\n",
       "      <th>4</th>\n",
       "      <td>9231.0</td>\n",
       "      <td>3</td>\n",
       "      <td>0</td>\n",
       "      <td>0</td>\n",
       "      <td>0</td>\n",
       "      <td>0</td>\n",
       "      <td>0</td>\n",
       "      <td>0</td>\n",
       "      <td>0</td>\n",
       "      <td>0</td>\n",
       "      <td>Stevedore_98</td>\n",
       "      <td>NaN</td>\n",
       "      <td>ARRIVAL</td>\n",
       "      <td>74</td>\n",
       "      <td>27</td>\n",
       "      <td>f</td>\n",
       "      <td>5504</td>\n",
       "    </tr>\n",
       "  </tbody>\n",
       "</table>\n",
       "</div>"
      ],
      "text/plain": [
       "   vesseldwt  vesseltype  discharge1  load1  discharge2  load2  discharge3  \\\n",
       "0   109290.0           5           0      0           0      0       90173   \n",
       "1    67170.0           3           0      0           0      0           0   \n",
       "2    67737.0           3           0      0           0      0           0   \n",
       "3    43600.0           3           0      0           0      0           0   \n",
       "4     9231.0           3           0      0           0      0           0   \n",
       "\n",
       "   load3  discharge4  load4 stevedorenames  hasnohamis traveltype  \\\n",
       "0      0           0      0  Stevedore_104         NaN    ARRIVAL   \n",
       "1      0           0      0  Stevedore_109         NaN    ARRIVAL   \n",
       "2      0           0      0   Stevedore_57         NaN    ARRIVAL   \n",
       "3      0           0      0   Stevedore_57         NaN    ARRIVAL   \n",
       "4      0           0      0   Stevedore_98         NaN    ARRIVAL   \n",
       "\n",
       "   previousportid  nextportid isremarkable  vesselid  \n",
       "0             981         731            f      2242  \n",
       "1              19          15            f      5462  \n",
       "2              19          19            f      5251  \n",
       "3              15          18            f      5268  \n",
       "4              74          27            f      5504  "
      ]
     },
     "execution_count": 137,
     "metadata": {},
     "output_type": "execute_result"
    }
   ],
   "source": [
    "#Removing columns which we don't care about\n",
    "#The assumption is that we want to predict how much each ship carries, not when it arrives or whether it will be delayed or not\n",
    "\n",
    "data = data.drop(columns=['eta', 'ata', 'atd', 'earliesteta', 'latesteta'])\n",
    "data.head(5)"
   ]
  },
  {
   "cell_type": "markdown",
   "metadata": {},
   "source": [
    "Stevedorenames has on some lines multiple entries, this could be solved in several ways, like making a new column for each stevedore and then have bool values for whichever ones were present(which would make our dataset explode horizontally). Since we cannot do that right now in the interest of time I will drop the column "
   ]
  },
  {
   "cell_type": "code",
   "execution_count": 138,
   "metadata": {},
   "outputs": [],
   "source": [
    "data = data.drop(columns = [\"stevedorenames\"])"
   ]
  },
  {
   "cell_type": "markdown",
   "metadata": {},
   "source": [
    "There are still columns which don't really add anything to the project - they hold either the same value (like \"isremarkable\" - which only has \"f\") or don't have values at all (hasnohamis). We remove those as well"
   ]
  },
  {
   "cell_type": "code",
   "execution_count": 139,
   "metadata": {},
   "outputs": [],
   "source": [
    "data = data.drop(columns = [\"hasnohamis\",\"isremarkable\"])"
   ]
  },
  {
   "cell_type": "code",
   "execution_count": 140,
   "metadata": {},
   "outputs": [
    {
     "data": {
      "text/html": [
       "<div>\n",
       "<style scoped>\n",
       "    .dataframe tbody tr th:only-of-type {\n",
       "        vertical-align: middle;\n",
       "    }\n",
       "\n",
       "    .dataframe tbody tr th {\n",
       "        vertical-align: top;\n",
       "    }\n",
       "\n",
       "    .dataframe thead th {\n",
       "        text-align: right;\n",
       "    }\n",
       "</style>\n",
       "<table border=\"1\" class=\"dataframe\">\n",
       "  <thead>\n",
       "    <tr style=\"text-align: right;\">\n",
       "      <th></th>\n",
       "      <th>vesseldwt</th>\n",
       "      <th>vesseltype</th>\n",
       "      <th>discharge1</th>\n",
       "      <th>load1</th>\n",
       "      <th>discharge2</th>\n",
       "      <th>load2</th>\n",
       "      <th>discharge3</th>\n",
       "      <th>load3</th>\n",
       "      <th>discharge4</th>\n",
       "      <th>load4</th>\n",
       "      <th>traveltype</th>\n",
       "      <th>previousportid</th>\n",
       "      <th>nextportid</th>\n",
       "      <th>vesselid</th>\n",
       "    </tr>\n",
       "  </thead>\n",
       "  <tbody>\n",
       "    <tr>\n",
       "      <th>0</th>\n",
       "      <td>109290.0</td>\n",
       "      <td>5</td>\n",
       "      <td>0</td>\n",
       "      <td>0</td>\n",
       "      <td>0</td>\n",
       "      <td>0</td>\n",
       "      <td>90173</td>\n",
       "      <td>0</td>\n",
       "      <td>0</td>\n",
       "      <td>0</td>\n",
       "      <td>ARRIVAL</td>\n",
       "      <td>981</td>\n",
       "      <td>731</td>\n",
       "      <td>2242</td>\n",
       "    </tr>\n",
       "    <tr>\n",
       "      <th>1</th>\n",
       "      <td>67170.0</td>\n",
       "      <td>3</td>\n",
       "      <td>0</td>\n",
       "      <td>0</td>\n",
       "      <td>0</td>\n",
       "      <td>0</td>\n",
       "      <td>0</td>\n",
       "      <td>0</td>\n",
       "      <td>0</td>\n",
       "      <td>0</td>\n",
       "      <td>ARRIVAL</td>\n",
       "      <td>19</td>\n",
       "      <td>15</td>\n",
       "      <td>5462</td>\n",
       "    </tr>\n",
       "    <tr>\n",
       "      <th>2</th>\n",
       "      <td>67737.0</td>\n",
       "      <td>3</td>\n",
       "      <td>0</td>\n",
       "      <td>0</td>\n",
       "      <td>0</td>\n",
       "      <td>0</td>\n",
       "      <td>0</td>\n",
       "      <td>0</td>\n",
       "      <td>0</td>\n",
       "      <td>0</td>\n",
       "      <td>ARRIVAL</td>\n",
       "      <td>19</td>\n",
       "      <td>19</td>\n",
       "      <td>5251</td>\n",
       "    </tr>\n",
       "    <tr>\n",
       "      <th>3</th>\n",
       "      <td>43600.0</td>\n",
       "      <td>3</td>\n",
       "      <td>0</td>\n",
       "      <td>0</td>\n",
       "      <td>0</td>\n",
       "      <td>0</td>\n",
       "      <td>0</td>\n",
       "      <td>0</td>\n",
       "      <td>0</td>\n",
       "      <td>0</td>\n",
       "      <td>ARRIVAL</td>\n",
       "      <td>15</td>\n",
       "      <td>18</td>\n",
       "      <td>5268</td>\n",
       "    </tr>\n",
       "    <tr>\n",
       "      <th>4</th>\n",
       "      <td>9231.0</td>\n",
       "      <td>3</td>\n",
       "      <td>0</td>\n",
       "      <td>0</td>\n",
       "      <td>0</td>\n",
       "      <td>0</td>\n",
       "      <td>0</td>\n",
       "      <td>0</td>\n",
       "      <td>0</td>\n",
       "      <td>0</td>\n",
       "      <td>ARRIVAL</td>\n",
       "      <td>74</td>\n",
       "      <td>27</td>\n",
       "      <td>5504</td>\n",
       "    </tr>\n",
       "  </tbody>\n",
       "</table>\n",
       "</div>"
      ],
      "text/plain": [
       "   vesseldwt  vesseltype  discharge1  load1  discharge2  load2  discharge3  \\\n",
       "0   109290.0           5           0      0           0      0       90173   \n",
       "1    67170.0           3           0      0           0      0           0   \n",
       "2    67737.0           3           0      0           0      0           0   \n",
       "3    43600.0           3           0      0           0      0           0   \n",
       "4     9231.0           3           0      0           0      0           0   \n",
       "\n",
       "   load3  discharge4  load4 traveltype  previousportid  nextportid  vesselid  \n",
       "0      0           0      0    ARRIVAL             981         731      2242  \n",
       "1      0           0      0    ARRIVAL              19          15      5462  \n",
       "2      0           0      0    ARRIVAL              19          19      5251  \n",
       "3      0           0      0    ARRIVAL              15          18      5268  \n",
       "4      0           0      0    ARRIVAL              74          27      5504  "
      ]
     },
     "execution_count": 140,
     "metadata": {},
     "output_type": "execute_result"
    }
   ],
   "source": [
    "data.head(5)"
   ]
  },
  {
   "cell_type": "markdown",
   "metadata": {},
   "source": [
    "Based on the assignment the main goal is \"a prediction of how much it transships (total of load & discharge activities) per cargo type.\" So assuming we need to predict the total of, lets say Coal - aka. discharge1 and load1, we need to create columns which hold the type of information we want to predict. \n",
    "\n",
    "What strikes me as odd and probably means I am not understanding something correctly is the prediction requirement. Assuming our input data looks like this, even without preprocessing we could just calculate how much it will transship of each type. \n",
    "\n",
    "I will proceed with the assignment assuming we don't have discharge1\tload1\tdischarge2\tload2\tdischarge3\tload3\tdischarge4\tload4 in the data initially and this is something we need to figure out."
   ]
  },
  {
   "cell_type": "markdown",
   "metadata": {},
   "source": [
    "I am noticing something else which is odd, most records have 0s in all discharge and load columns: "
   ]
  },
  {
   "cell_type": "code",
   "execution_count": 141,
   "metadata": {},
   "outputs": [
    {
     "data": {
      "text/plain": [
       "0         8070\n",
       "550          2\n",
       "43343        1\n",
       "176828       1\n",
       "78500        1\n",
       "          ... \n",
       "3700         1\n",
       "171670       1\n",
       "198397       1\n",
       "3980         1\n",
       "39456        1\n",
       "Name: discharge1, Length: 138, dtype: int64"
      ]
     },
     "execution_count": 141,
     "metadata": {},
     "output_type": "execute_result"
    }
   ],
   "source": [
    "data.discharge1.value_counts()"
   ]
  },
  {
   "cell_type": "code",
   "execution_count": 142,
   "metadata": {},
   "outputs": [
    {
     "data": {
      "text/plain": [
       "(1605, 14)"
      ]
     },
     "execution_count": 142,
     "metadata": {},
     "output_type": "execute_result"
    }
   ],
   "source": [
    "data = data[(data == 0).sum(1) < 8]\n",
    "data.shape"
   ]
  },
  {
   "cell_type": "markdown",
   "metadata": {},
   "source": [
    "Lastly we are making the column traveltype to boolean"
   ]
  },
  {
   "cell_type": "code",
   "execution_count": 143,
   "metadata": {},
   "outputs": [],
   "source": [
    "data = data.replace({'traveltype': {\"ARRIVAL\": 1, \"SHIFT\": 0}})"
   ]
  },
  {
   "cell_type": "markdown",
   "metadata": {},
   "source": [
    "Removing all of the rows where all the discharge and loads are equal to 0 leaves us with much less records. However, that is preferable, since if a possible model is to predict only 0 it would have accuracy of about 1605/8208 = 80%. Now the model will have to predict a value, which again could not be ideal, since most ships will not carry any cargo based on the assignment. If there was more time, the best approach would be to reduce the number of lines with 0s, rather than removing all. There could also be patterns within the data which could explain why some of the lines had 0s (like some of the Stevedores being used for different kinds of goods than the ones we care about or some of the ships being passenger ones) "
   ]
  },
  {
   "cell_type": "markdown",
   "metadata": {},
   "source": [
    "Originally I was thinknig that this is definitelly a regression problem, since we will have to predict quantity. In the intrest of time I decided to go for a ML solution rather than a Deep leanring one. "
   ]
  },
  {
   "cell_type": "markdown",
   "metadata": {},
   "source": [
    "Lastly, there are still some ID columns which could be removed - like the vessel id or next port id, the only reason for why am I keeping them is in case the model notices some relationship between the vessel ID and the type of cargo it carries. "
   ]
  },
  {
   "cell_type": "markdown",
   "metadata": {},
   "source": [
    "## Building a model "
   ]
  },
  {
   "cell_type": "markdown",
   "metadata": {},
   "source": [
    "In the intrest of time I have to proceed to that point. However there are still some things that could be done on the previous step, like turing some columns to binary etc. \n",
    "\n",
    "Now based on the assignment we have to make a column which combines discharge and load for each product"
   ]
  },
  {
   "cell_type": "code",
   "execution_count": 144,
   "metadata": {},
   "outputs": [],
   "source": [
    "data[\"ore_transship\"] = (data[\"discharge1\"] + data[\"load1\"])\n",
    "data[\"coal_transship\"] = (data[\"discharge2\"] + data[\"load2\"])\n",
    "data[\"oil_transship\"] = (data[\"discharge3\"] + data[\"load3\"])\n",
    "data[\"petroleum_transship\"] = (data[\"discharge4\"] + data[\"load4\"])"
   ]
  },
  {
   "cell_type": "code",
   "execution_count": 145,
   "metadata": {},
   "outputs": [
    {
     "data": {
      "text/html": [
       "<div>\n",
       "<style scoped>\n",
       "    .dataframe tbody tr th:only-of-type {\n",
       "        vertical-align: middle;\n",
       "    }\n",
       "\n",
       "    .dataframe tbody tr th {\n",
       "        vertical-align: top;\n",
       "    }\n",
       "\n",
       "    .dataframe thead th {\n",
       "        text-align: right;\n",
       "    }\n",
       "</style>\n",
       "<table border=\"1\" class=\"dataframe\">\n",
       "  <thead>\n",
       "    <tr style=\"text-align: right;\">\n",
       "      <th></th>\n",
       "      <th>vesseldwt</th>\n",
       "      <th>vesseltype</th>\n",
       "      <th>discharge1</th>\n",
       "      <th>load1</th>\n",
       "      <th>discharge2</th>\n",
       "      <th>load2</th>\n",
       "      <th>discharge3</th>\n",
       "      <th>load3</th>\n",
       "      <th>discharge4</th>\n",
       "      <th>load4</th>\n",
       "      <th>traveltype</th>\n",
       "      <th>previousportid</th>\n",
       "      <th>nextportid</th>\n",
       "      <th>vesselid</th>\n",
       "      <th>ore_transship</th>\n",
       "      <th>coal_transship</th>\n",
       "      <th>oil_transship</th>\n",
       "      <th>petroleum_transship</th>\n",
       "    </tr>\n",
       "  </thead>\n",
       "  <tbody>\n",
       "    <tr>\n",
       "      <th>0</th>\n",
       "      <td>109290.0</td>\n",
       "      <td>5</td>\n",
       "      <td>0</td>\n",
       "      <td>0</td>\n",
       "      <td>0</td>\n",
       "      <td>0</td>\n",
       "      <td>90173</td>\n",
       "      <td>0</td>\n",
       "      <td>0</td>\n",
       "      <td>0</td>\n",
       "      <td>1</td>\n",
       "      <td>981</td>\n",
       "      <td>731</td>\n",
       "      <td>2242</td>\n",
       "      <td>0</td>\n",
       "      <td>0</td>\n",
       "      <td>90173</td>\n",
       "      <td>0</td>\n",
       "    </tr>\n",
       "    <tr>\n",
       "      <th>5</th>\n",
       "      <td>74518.0</td>\n",
       "      <td>2</td>\n",
       "      <td>72741</td>\n",
       "      <td>0</td>\n",
       "      <td>0</td>\n",
       "      <td>0</td>\n",
       "      <td>0</td>\n",
       "      <td>0</td>\n",
       "      <td>0</td>\n",
       "      <td>0</td>\n",
       "      <td>1</td>\n",
       "      <td>981</td>\n",
       "      <td>981</td>\n",
       "      <td>7242</td>\n",
       "      <td>72741</td>\n",
       "      <td>0</td>\n",
       "      <td>0</td>\n",
       "      <td>0</td>\n",
       "    </tr>\n",
       "    <tr>\n",
       "      <th>8</th>\n",
       "      <td>17069.0</td>\n",
       "      <td>5</td>\n",
       "      <td>0</td>\n",
       "      <td>0</td>\n",
       "      <td>0</td>\n",
       "      <td>0</td>\n",
       "      <td>14044</td>\n",
       "      <td>0</td>\n",
       "      <td>0</td>\n",
       "      <td>0</td>\n",
       "      <td>1</td>\n",
       "      <td>36</td>\n",
       "      <td>286</td>\n",
       "      <td>2542</td>\n",
       "      <td>0</td>\n",
       "      <td>0</td>\n",
       "      <td>14044</td>\n",
       "      <td>0</td>\n",
       "    </tr>\n",
       "    <tr>\n",
       "      <th>23</th>\n",
       "      <td>7133.0</td>\n",
       "      <td>3</td>\n",
       "      <td>0</td>\n",
       "      <td>4188</td>\n",
       "      <td>0</td>\n",
       "      <td>0</td>\n",
       "      <td>0</td>\n",
       "      <td>0</td>\n",
       "      <td>0</td>\n",
       "      <td>0</td>\n",
       "      <td>1</td>\n",
       "      <td>45</td>\n",
       "      <td>1037</td>\n",
       "      <td>894</td>\n",
       "      <td>4188</td>\n",
       "      <td>0</td>\n",
       "      <td>0</td>\n",
       "      <td>0</td>\n",
       "    </tr>\n",
       "    <tr>\n",
       "      <th>27</th>\n",
       "      <td>158070.0</td>\n",
       "      <td>5</td>\n",
       "      <td>0</td>\n",
       "      <td>0</td>\n",
       "      <td>0</td>\n",
       "      <td>0</td>\n",
       "      <td>131231</td>\n",
       "      <td>0</td>\n",
       "      <td>0</td>\n",
       "      <td>0</td>\n",
       "      <td>1</td>\n",
       "      <td>1291</td>\n",
       "      <td>1156</td>\n",
       "      <td>7144</td>\n",
       "      <td>0</td>\n",
       "      <td>0</td>\n",
       "      <td>131231</td>\n",
       "      <td>0</td>\n",
       "    </tr>\n",
       "  </tbody>\n",
       "</table>\n",
       "</div>"
      ],
      "text/plain": [
       "    vesseldwt  vesseltype  discharge1  load1  discharge2  load2  discharge3  \\\n",
       "0    109290.0           5           0      0           0      0       90173   \n",
       "5     74518.0           2       72741      0           0      0           0   \n",
       "8     17069.0           5           0      0           0      0       14044   \n",
       "23     7133.0           3           0   4188           0      0           0   \n",
       "27   158070.0           5           0      0           0      0      131231   \n",
       "\n",
       "    load3  discharge4  load4  traveltype  previousportid  nextportid  \\\n",
       "0       0           0      0           1             981         731   \n",
       "5       0           0      0           1             981         981   \n",
       "8       0           0      0           1              36         286   \n",
       "23      0           0      0           1              45        1037   \n",
       "27      0           0      0           1            1291        1156   \n",
       "\n",
       "    vesselid  ore_transship  coal_transship  oil_transship  \\\n",
       "0       2242              0               0          90173   \n",
       "5       7242          72741               0              0   \n",
       "8       2542              0               0          14044   \n",
       "23       894           4188               0              0   \n",
       "27      7144              0               0         131231   \n",
       "\n",
       "    petroleum_transship  \n",
       "0                     0  \n",
       "5                     0  \n",
       "8                     0  \n",
       "23                    0  \n",
       "27                    0  "
      ]
     },
     "execution_count": 145,
     "metadata": {},
     "output_type": "execute_result"
    }
   ],
   "source": [
    "data.head(5)"
   ]
  },
  {
   "cell_type": "markdown",
   "metadata": {},
   "source": [
    "Now since we have the new columns we can remove the old ones and split the dataset into training and test. But not before we scale the data to make sure nothing explodes."
   ]
  },
  {
   "cell_type": "code",
   "execution_count": 146,
   "metadata": {},
   "outputs": [],
   "source": [
    "scaler = MinMaxScaler()\n",
    "data[data.columns] = scaler.fit_transform(data[data.columns])"
   ]
  },
  {
   "cell_type": "code",
   "execution_count": 147,
   "metadata": {},
   "outputs": [],
   "source": [
    "data = data.drop(columns = [\"discharge1\",\"discharge2\",\"discharge3\",\"discharge4\",\"load1\",\"load2\",\"load3\",\"load4\"])\n",
    "\n",
    "train, test = train_test_split(data, test_size=0.2)"
   ]
  },
  {
   "cell_type": "code",
   "execution_count": 153,
   "metadata": {},
   "outputs": [
    {
     "data": {
      "text/html": [
       "<div>\n",
       "<style scoped>\n",
       "    .dataframe tbody tr th:only-of-type {\n",
       "        vertical-align: middle;\n",
       "    }\n",
       "\n",
       "    .dataframe tbody tr th {\n",
       "        vertical-align: top;\n",
       "    }\n",
       "\n",
       "    .dataframe thead th {\n",
       "        text-align: right;\n",
       "    }\n",
       "</style>\n",
       "<table border=\"1\" class=\"dataframe\">\n",
       "  <thead>\n",
       "    <tr style=\"text-align: right;\">\n",
       "      <th></th>\n",
       "      <th>vesseldwt</th>\n",
       "      <th>vesseltype</th>\n",
       "      <th>traveltype</th>\n",
       "      <th>previousportid</th>\n",
       "      <th>nextportid</th>\n",
       "      <th>vesselid</th>\n",
       "      <th>ore_transship</th>\n",
       "      <th>coal_transship</th>\n",
       "      <th>oil_transship</th>\n",
       "      <th>petroleum_transship</th>\n",
       "    </tr>\n",
       "  </thead>\n",
       "  <tbody>\n",
       "    <tr>\n",
       "      <th>7176</th>\n",
       "      <td>0.930876</td>\n",
       "      <td>1.0</td>\n",
       "      <td>1.0</td>\n",
       "      <td>0.304667</td>\n",
       "      <td>0.031447</td>\n",
       "      <td>0.314309</td>\n",
       "      <td>0.0</td>\n",
       "      <td>0.0</td>\n",
       "      <td>0.278723</td>\n",
       "      <td>0.000000</td>\n",
       "    </tr>\n",
       "    <tr>\n",
       "      <th>5961</th>\n",
       "      <td>0.074284</td>\n",
       "      <td>1.0</td>\n",
       "      <td>1.0</td>\n",
       "      <td>0.299948</td>\n",
       "      <td>0.011530</td>\n",
       "      <td>0.337353</td>\n",
       "      <td>0.0</td>\n",
       "      <td>0.0</td>\n",
       "      <td>0.030236</td>\n",
       "      <td>0.000000</td>\n",
       "    </tr>\n",
       "    <tr>\n",
       "      <th>61</th>\n",
       "      <td>0.074438</td>\n",
       "      <td>1.0</td>\n",
       "      <td>1.0</td>\n",
       "      <td>0.006817</td>\n",
       "      <td>0.512579</td>\n",
       "      <td>0.336415</td>\n",
       "      <td>0.0</td>\n",
       "      <td>0.0</td>\n",
       "      <td>0.000000</td>\n",
       "      <td>0.056599</td>\n",
       "    </tr>\n",
       "    <tr>\n",
       "      <th>923</th>\n",
       "      <td>0.054681</td>\n",
       "      <td>1.0</td>\n",
       "      <td>1.0</td>\n",
       "      <td>0.010488</td>\n",
       "      <td>0.006289</td>\n",
       "      <td>0.397240</td>\n",
       "      <td>0.0</td>\n",
       "      <td>0.0</td>\n",
       "      <td>0.000000</td>\n",
       "      <td>0.045197</td>\n",
       "    </tr>\n",
       "    <tr>\n",
       "      <th>6213</th>\n",
       "      <td>0.217242</td>\n",
       "      <td>1.0</td>\n",
       "      <td>1.0</td>\n",
       "      <td>0.059780</td>\n",
       "      <td>0.031971</td>\n",
       "      <td>0.935557</td>\n",
       "      <td>0.0</td>\n",
       "      <td>0.0</td>\n",
       "      <td>0.000000</td>\n",
       "      <td>0.150963</td>\n",
       "    </tr>\n",
       "  </tbody>\n",
       "</table>\n",
       "</div>"
      ],
      "text/plain": [
       "      vesseldwt  vesseltype  traveltype  previousportid  nextportid  vesselid  \\\n",
       "7176   0.930876         1.0         1.0        0.304667    0.031447  0.314309   \n",
       "5961   0.074284         1.0         1.0        0.299948    0.011530  0.337353   \n",
       "61     0.074438         1.0         1.0        0.006817    0.512579  0.336415   \n",
       "923    0.054681         1.0         1.0        0.010488    0.006289  0.397240   \n",
       "6213   0.217242         1.0         1.0        0.059780    0.031971  0.935557   \n",
       "\n",
       "      ore_transship  coal_transship  oil_transship  petroleum_transship  \n",
       "7176            0.0             0.0       0.278723             0.000000  \n",
       "5961            0.0             0.0       0.030236             0.000000  \n",
       "61              0.0             0.0       0.000000             0.056599  \n",
       "923             0.0             0.0       0.000000             0.045197  \n",
       "6213            0.0             0.0       0.000000             0.150963  "
      ]
     },
     "execution_count": 153,
     "metadata": {},
     "output_type": "execute_result"
    }
   ],
   "source": [
    "train.head(5)"
   ]
  },
  {
   "cell_type": "code",
   "execution_count": 150,
   "metadata": {},
   "outputs": [],
   "source": [
    "model = DecisionTreeRegressor()"
   ]
  },
  {
   "cell_type": "markdown",
   "metadata": {},
   "source": [
    "Out of time. "
   ]
  }
 ],
 "metadata": {
  "kernelspec": {
   "display_name": "Python 3",
   "language": "python",
   "name": "python3"
  },
  "language_info": {
   "codemirror_mode": {
    "name": "ipython",
    "version": 3
   },
   "file_extension": ".py",
   "mimetype": "text/x-python",
   "name": "python",
   "nbconvert_exporter": "python",
   "pygments_lexer": "ipython3",
   "version": "3.7.6"
  }
 },
 "nbformat": 4,
 "nbformat_minor": 4
}
